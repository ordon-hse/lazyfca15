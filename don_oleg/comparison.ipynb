{
 "cells": [
  {
   "cell_type": "code",
   "execution_count": 1,
   "metadata": {},
   "outputs": [],
   "source": [
    "import pandas as pd"
   ]
  },
  {
   "cell_type": "code",
   "execution_count": 2,
   "metadata": {},
   "outputs": [],
   "source": [
    "from sklearn.model_selection import train_test_split, cross_validate\n",
    "from sklearn import preprocessing, metrics"
   ]
  },
  {
   "cell_type": "code",
   "execution_count": 3,
   "metadata": {},
   "outputs": [],
   "source": [
    "from sklearn.tree import DecisionTreeClassifier\n",
    "from sklearn.neighbors import KNeighborsClassifier\n",
    "from sklearn.naive_bayes import GaussianNB\n",
    "from sklearn.svm import SVC"
   ]
  },
  {
   "cell_type": "code",
   "execution_count": 4,
   "metadata": {},
   "outputs": [],
   "source": [
    "import warnings\n",
    "warnings.filterwarnings('ignore')"
   ]
  },
  {
   "cell_type": "code",
   "execution_count": 5,
   "metadata": {},
   "outputs": [],
   "source": [
    "\n",
    "def bin_cat(df, cat):\n",
    "    result = {}\n",
    "    values = df[cat].unique()\n",
    "    for val in values:\n",
    "        new_cat = '{}_{}'.format(cat, val)\n",
    "        result[new_cat] = (df[cat] == val).astype(int)\n",
    "    return result\n",
    "\n",
    "def bin_num1(df, cat):\n",
    "    result = {}\n",
    "    values = df[cat].unique()\n",
    "    for val in values:\n",
    "        if int(val) == 0:\n",
    "            continue\n",
    "        new_cat = '{}_{}'.format(cat, val)\n",
    "        result[new_cat] = ((df[cat] >= 0) & (df[cat] < val)).astype(int)\n",
    "    return result\n",
    "\n",
    "def bin_num2(df, cat, ints):\n",
    "    result = {}\n",
    "    for i in ints:\n",
    "        new_cat = '{}_{}-{}'.format(cat, i[0], i[1])\n",
    "        result[new_cat] = ((df[cat] >= i[0]) & (df[cat] < i[1])).astype(int)\n",
    "    return result\n",
    "\n",
    "def bin_tgt(df, thresh):\n",
    "    return {\n",
    "        'class': (df[['G1', 'G2', 'G3']].mean(axis=1) / 20 >= thresh).astype(int),\n",
    "    }\n",
    "\n",
    "def get_dataset(datasetfname, sep=';', binarize=True, thresh=0.53, label_cat=True):\n",
    "    data = {}\n",
    "    \n",
    "    df = pd.read_csv(datasetfname, sep=sep)\n",
    "    \n",
    "    cat = ['sex', 'address', 'famsize']\n",
    "    num1 = ['Fedu', 'Medu', 'failures']\n",
    "    num2 = {'absences': [[0, 1], [1, 2], [2, 3], [3, 6], [6, 999]]}\n",
    "    \n",
    "    if binarize:\n",
    "        for c in cat:\n",
    "            data.update(bin_cat(df, c))\n",
    "        for c in num1:\n",
    "            data.update(bin_num1(df, c))\n",
    "        for c in num2:\n",
    "            data.update(bin_num2(df, c, num2[c]))\n",
    "    else:\n",
    "        for c in cat:\n",
    "            data.update({c: df[c]})\n",
    "        for c in num1:\n",
    "            data.update({c: df[c]})\n",
    "        for c in num2:\n",
    "            data.update({c: df[c]})\n",
    "    data.update(bin_tgt(df, thresh))\n",
    "    \n",
    "    dataset = pd.DataFrame(data)\n",
    "    \n",
    "    if not binarize and label_cat:\n",
    "        le = preprocessing.LabelEncoder()\n",
    "        for c in cat:\n",
    "            le.fit(dataset[c].unique())\n",
    "            dataset[c] = le.transform(dataset[c])\n",
    "    \n",
    "    X = dataset[[d for d in dataset.head() if d != 'class']]\n",
    "    y = dataset['class']\n",
    "    \n",
    "    return X, y\n",
    "\n",
    "dataset = get_dataset('dataset/student-mat.csv', binarize=False, label_cat=True, thresh=0.8)"
   ]
  },
  {
   "cell_type": "code",
   "execution_count": 6,
   "metadata": {},
   "outputs": [],
   "source": [
    "def get_cross_val_scores(clf_title, clf, X, y, cv=4):\n",
    "    scoring = ['accuracy', 'precision', 'recall', 'f1']\n",
    "    score = cross_validate(clf, X, y, cv=cv, scoring=scoring)\n",
    "    print(\"\"\"{} scores:\n",
    "           accuracy: {:.3f}\n",
    "           precision: {:.3f}\n",
    "           recall: {:.3f}\n",
    "           F1: {:.3f}\"\"\".format(\n",
    "        clf_title,\n",
    "        score['test_accuracy'].mean(), \n",
    "        score['test_precision'].mean(), \n",
    "        score['test_recall'].mean(), \n",
    "        score['test_f1'].mean())\n",
    "    )"
   ]
  },
  {
   "cell_type": "code",
   "execution_count": 7,
   "metadata": {},
   "outputs": [],
   "source": [
    "def cross_val_test(datasetfname, binarize=False, thresh=0.53):\n",
    "    X, y = get_dataset(datasetfname, binarize=binarize, thresh=thresh)\n",
    "    dcc_clf = DecisionTreeClassifier()\n",
    "    get_cross_val_scores('Decision Tree', dcc_clf, X, y)\n",
    "    print('')\n",
    "    knn_clf = KNeighborsClassifier(n_neighbors=5, metric='euclidean')\n",
    "    get_cross_val_scores('K Nearest Neighbors', knn_clf, X, y)\n",
    "    print('')\n",
    "    nb_clf = GaussianNB()\n",
    "    get_cross_val_scores('Naive Bayes', nb_clf, X, y)\n",
    "    print('')\n",
    "    svc_clf = SVC(kernel='linear', C=1)\n",
    "    get_cross_val_scores('SVC', svc_clf, X, y)"
   ]
  },
  {
   "cell_type": "code",
   "execution_count": 8,
   "metadata": {
    "scrolled": false
   },
   "outputs": [
    {
     "name": "stdout",
     "output_type": "stream",
     "text": [
      "Cross validation test on non binarized data; thresh: 0.53\n",
      "\n",
      "Decision Tree scores:\n",
      "           accuracy: 0.610\n",
      "           precision: 0.646\n",
      "           recall: 0.578\n",
      "           F1: 0.605\n",
      "\n",
      "K Nearest Neighbors scores:\n",
      "           accuracy: 0.562\n",
      "           precision: 0.577\n",
      "           recall: 0.612\n",
      "           F1: 0.589\n",
      "\n",
      "Naive Bayes scores:\n",
      "           accuracy: 0.638\n",
      "           precision: 0.612\n",
      "           recall: 0.844\n",
      "           F1: 0.707\n",
      "\n",
      "SVC scores:\n",
      "           accuracy: 0.615\n",
      "           precision: 0.593\n",
      "           recall: 0.845\n",
      "           F1: 0.695\n"
     ]
    }
   ],
   "source": [
    "print('Cross validation test on non binarized data; thresh: 0.53\\n')\n",
    "cross_val_test('dataset/student-mat.csv', binarize=False)"
   ]
  },
  {
   "cell_type": "code",
   "execution_count": 9,
   "metadata": {},
   "outputs": [
    {
     "name": "stdout",
     "output_type": "stream",
     "text": [
      "Cross validation test on binarized data; thresh: 0.53\n",
      "\n",
      "Decision Tree scores:\n",
      "           accuracy: 0.593\n",
      "           precision: 0.622\n",
      "           recall: 0.588\n",
      "           F1: 0.599\n",
      "\n",
      "K Nearest Neighbors scores:\n",
      "           accuracy: 0.562\n",
      "           precision: 0.577\n",
      "           recall: 0.612\n",
      "           F1: 0.589\n",
      "\n",
      "Naive Bayes scores:\n",
      "           accuracy: 0.638\n",
      "           precision: 0.612\n",
      "           recall: 0.844\n",
      "           F1: 0.707\n",
      "\n",
      "SVC scores:\n",
      "           accuracy: 0.615\n",
      "           precision: 0.593\n",
      "           recall: 0.845\n",
      "           F1: 0.695\n"
     ]
    }
   ],
   "source": [
    "print('Cross validation test on binarized data; thresh: 0.53\\n')\n",
    "cross_val_test('dataset/student-mat.csv')"
   ]
  },
  {
   "cell_type": "code",
   "execution_count": 10,
   "metadata": {},
   "outputs": [
    {
     "name": "stdout",
     "output_type": "stream",
     "text": [
      "Cross validation test on non binarized data; thresh: 0.8\n",
      "\n",
      "Decision Tree scores:\n",
      "           accuracy: 0.879\n",
      "           precision: 0.000\n",
      "           recall: 0.000\n",
      "           F1: 0.000\n",
      "\n",
      "K Nearest Neighbors scores:\n",
      "           accuracy: 0.927\n",
      "           precision: 0.000\n",
      "           recall: 0.000\n",
      "           F1: 0.000\n",
      "\n",
      "Naive Bayes scores:\n",
      "           accuracy: 0.689\n",
      "           precision: 0.200\n",
      "           recall: 0.402\n",
      "           F1: 0.175\n",
      "\n",
      "SVC scores:\n",
      "           accuracy: 0.927\n",
      "           precision: 0.000\n",
      "           recall: 0.000\n",
      "           F1: 0.000\n"
     ]
    }
   ],
   "source": [
    "print('Cross validation test on non binarized data; thresh: 0.8\\n')\n",
    "cross_val_test('dataset/student-mat.csv', binarize=False, thresh=0.8)"
   ]
  },
  {
   "cell_type": "code",
   "execution_count": 11,
   "metadata": {},
   "outputs": [
    {
     "name": "stdout",
     "output_type": "stream",
     "text": [
      "Cross validation test on binarized data; thresh: 0.8\n",
      "\n",
      "Decision Tree scores:\n",
      "           accuracy: 0.896\n",
      "           precision: 0.104\n",
      "           recall: 0.071\n",
      "           F1: 0.084\n",
      "\n",
      "K Nearest Neighbors scores:\n",
      "           accuracy: 0.927\n",
      "           precision: 0.000\n",
      "           recall: 0.000\n",
      "           F1: 0.000\n",
      "\n",
      "Naive Bayes scores:\n",
      "           accuracy: 0.246\n",
      "           precision: 0.084\n",
      "           recall: 0.933\n",
      "           F1: 0.154\n",
      "\n",
      "SVC scores:\n",
      "           accuracy: 0.927\n",
      "           precision: 0.000\n",
      "           recall: 0.000\n",
      "           F1: 0.000\n"
     ]
    }
   ],
   "source": [
    "print('Cross validation test on binarized data; thresh: 0.8\\n')\n",
    "cross_val_test('dataset/student-mat.csv', binarize=True, thresh=0.8)"
   ]
  },
  {
   "cell_type": "code",
   "execution_count": 12,
   "metadata": {},
   "outputs": [
    {
     "name": "stdout",
     "output_type": "stream",
     "text": [
      "Cross validation test on non binarized data; thresh: 0.4\n",
      "\n",
      "Decision Tree scores:\n",
      "           accuracy: 0.734\n",
      "           precision: 0.852\n",
      "           recall: 0.808\n",
      "           F1: 0.827\n",
      "\n",
      "K Nearest Neighbors scores:\n",
      "           accuracy: 0.823\n",
      "           precision: 0.844\n",
      "           recall: 0.955\n",
      "           F1: 0.895\n",
      "\n",
      "Naive Bayes scores:\n",
      "           accuracy: 0.805\n",
      "           precision: 0.837\n",
      "           recall: 0.939\n",
      "           F1: 0.884\n",
      "\n",
      "SVC scores:\n",
      "           accuracy: 0.792\n",
      "           precision: 0.803\n",
      "           recall: 0.978\n",
      "           F1: 0.882\n"
     ]
    }
   ],
   "source": [
    "print('Cross validation test on non binarized data; thresh: 0.4\\n')\n",
    "cross_val_test('dataset/student-mat.csv', binarize=False, thresh=0.4)"
   ]
  },
  {
   "cell_type": "code",
   "execution_count": 13,
   "metadata": {},
   "outputs": [
    {
     "name": "stdout",
     "output_type": "stream",
     "text": [
      "Cross validation test on binarized data; thresh: 0.4\n",
      "\n",
      "Decision Tree scores:\n",
      "           accuracy: 0.757\n",
      "           precision: 0.851\n",
      "           recall: 0.843\n",
      "           F1: 0.845\n",
      "\n",
      "K Nearest Neighbors scores:\n",
      "           accuracy: 0.805\n",
      "           precision: 0.834\n",
      "           recall: 0.942\n",
      "           F1: 0.885\n",
      "\n",
      "Naive Bayes scores:\n",
      "           accuracy: 0.276\n",
      "           precision: 0.989\n",
      "           recall: 0.090\n",
      "           F1: 0.148\n",
      "\n",
      "SVC scores:\n",
      "           accuracy: 0.810\n",
      "           precision: 0.822\n",
      "           recall: 0.971\n",
      "           F1: 0.890\n"
     ]
    }
   ],
   "source": [
    "print('Cross validation test on binarized data; thresh: 0.4\\n')\n",
    "cross_val_test('dataset/student-mat.csv', binarize=True, thresh=0.4)"
   ]
  },
  {
   "cell_type": "code",
   "execution_count": null,
   "metadata": {},
   "outputs": [],
   "source": []
  }
 ],
 "metadata": {
  "kernelspec": {
   "display_name": "Python 3",
   "language": "python",
   "name": "python3"
  },
  "language_info": {
   "codemirror_mode": {
    "name": "ipython",
    "version": 3
   },
   "file_extension": ".py",
   "mimetype": "text/x-python",
   "name": "python",
   "nbconvert_exporter": "python",
   "pygments_lexer": "ipython3",
   "version": "3.6.5"
  }
 },
 "nbformat": 4,
 "nbformat_minor": 2
}
